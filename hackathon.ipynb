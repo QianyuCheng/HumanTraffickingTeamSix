{
 "cells": [
  {
   "cell_type": "code",
   "execution_count": 286,
   "metadata": {
    "collapsed": false
   },
   "outputs": [],
   "source": [
    "import gzip\n",
    "import json\n",
    "import nltk\n",
    "from nltk.corpus import stopwords \n",
    "nltk.download()\n",
    "\n",
    "#Reference: BOW and NLP credits to https://www.kaggle.com/c/word2vec-nlp-tutorial/details/part-1-for-beginners-bag-of-words\n",
    "data_size = 10000\n",
    "\n",
    "def review_to_words(review_text):\n",
    "    # Function to convert a raw review to a string of words\n",
    "    # The input is a single string (a raw movie review), and \n",
    "    # the output is a single string (a preprocessed movie review)\n",
    "    #\n",
    "    # 1. Remove HTML\n",
    "    #review_text = BeautifulSoup(raw_review).get_text() \n",
    "    #\n",
    "    # 2. Remove non-letters        \n",
    "    letters_only = re.sub(\"[^a-zA-Z]\", \" \", review_text) \n",
    "    #\n",
    "    # 3. Convert to lower case, split into individual words\n",
    "    words = letters_only.lower().split()                             \n",
    "    #\n",
    "    # 4. In Python, searching a set is much faster than searching\n",
    "    #   a list, so convert the stop words to a set\n",
    "    stops = set(stopwords.words(\"english\"))                  \n",
    "    # \n",
    "    # 5. Remove stop words\n",
    "    meaningful_words = [w for w in words if not w in stops]   \n",
    "    #\n",
    "    # 6. Join the words back into one string separated by space, \n",
    "    # and return the result.\n",
    "    return( \" \".join( meaningful_words ))   \n",
    "\n",
    "with gzip.open('9.28_9.30_labor.jsonl.gz', 'rt') as f:\n",
    "    ad = 0\n",
    "    clean_train_reviews = []\n",
    "    for line in f:\n",
    "        \n",
    "         # remove line break\n",
    "        line_cleaned = line.split('\\n')[0]\n",
    "        \n",
    "        # read in line as JSON object\n",
    "        # note that since these documents were stored in Elasticsearch \n",
    "        # you need to access the `_source` to get the actual object\n",
    "        # source contains the actual CDR schema object\n",
    "                \n",
    "        obj = json.loads(line_cleaned).get('_source')\n",
    "        \n",
    "        # you can obtain the `_id` in case it is useful\n",
    "        # it is stored at the same level as `_source`\n",
    "        \n",
    "        _extractwords = json.loads(line_cleaned).get('_source').get('extracted_text')\n",
    "        \n",
    "        clean_train_reviews.append(review_to_words( _extractwords ))\n",
    "        ad = ad + 1 \n",
    "        if ad == data_size:\n",
    "            break\n",
    "        # now you can operate on `obj` as needed \n",
    "        \n",
    "with gzip.open('september_nyc_escorts.jsonl.gz', 'rt') as f:\n",
    "    ad = 0\n",
    "    clean_train_escort_reviews = []\n",
    "    for line in f:\n",
    "        \n",
    "         # remove line break\n",
    "        line_cleaned = line.split('\\n')[0]\n",
    "        \n",
    "        # read in line as JSON object\n",
    "        # note that since these documents were stored in Elasticsearch \n",
    "        # you need to access the `_source` to get the actual object\n",
    "        # source contains the actual CDR schema object\n",
    "                \n",
    "        obj = json.loads(line_cleaned).get('_source')\n",
    "        \n",
    "        # you can obtain the `_id` in case it is useful\n",
    "        # it is stored at the same level as `_source`\n",
    "        \n",
    "        _extractwords = json.loads(line_cleaned).get('_source').get('extracted_text')\n",
    "        \n",
    "        clean_train_escort_reviews.append(review_to_words( _extractwords ))\n",
    "        ad = ad + 1 \n",
    "        if ad == data_size:\n",
    "            break\n",
    "        # now you can operate on `obj` as needed "
   ]
  },
  {
   "cell_type": "code",
   "execution_count": 287,
   "metadata": {
    "collapsed": false
   },
   "outputs": [
    {
     "name": "stdout",
     "output_type": "stream",
     "text": [
      "Creating the bag of words...\n",
      "\n"
     ]
    },
    {
     "data": {
      "text/plain": [
       "(16000,)"
      ]
     },
     "execution_count": 287,
     "metadata": {},
     "output_type": "execute_result"
    }
   ],
   "source": [
    "print(\"Creating the bag of words...\\n\")\n",
    "from sklearn.feature_extraction.text import CountVectorizer\n",
    "\n",
    "# Initialize the \"CountVectorizer\" object, which is scikit-learn's\n",
    "# bag of words tool.  \n",
    "vectorizer = CountVectorizer(analyzer = \"word\",   \n",
    "                             tokenizer = None,    \n",
    "                             preprocessor = None, \n",
    "                             stop_words = None,   \n",
    "                             max_features = 500) \n",
    "\n",
    "# fit_transform() does two functions: First, it fits the model\n",
    "# and learns the vocabulary; second, it transforms our training data\n",
    "# into feature vectors. The input to fit_transform should be a list of \n",
    "# strings.\n",
    "train_size = int(4/5 * data_size)\n",
    "test_size = data_size - train_size\n",
    "train_data_all = np.concatenate((clean_train_reviews[:train_size],clean_train_escort_reviews[:train_size]), axis=0)\n",
    "train_data_features = vectorizer.fit_transform(train_data_all)\n",
    "#vectorizer.transform()\n",
    "# Numpy arrays are easy to work with, so convert the result to an \n",
    "# array\n",
    "train_data_features = train_data_features.toarray()\n",
    "train_data_features.shape\n",
    "\n",
    "\n",
    "\n",
    "import numpy as np \n",
    "length = train_size\n",
    "target_variable = np.ones(length)\n",
    "target_variable_1 = -1 * np.ones(length)\n",
    "tv = np.concatenate((target_variable, target_variable_1),axis=0)\n",
    "tv.shape"
   ]
  },
  {
   "cell_type": "code",
   "execution_count": 288,
   "metadata": {
    "collapsed": false,
    "scrolled": true
   },
   "outputs": [
    {
     "name": "stdout",
     "output_type": "stream",
     "text": [
      "Training the random forest...\n"
     ]
    }
   ],
   "source": [
    "print(\"Training the random forest...\")\n",
    "from sklearn.ensemble import RandomForestClassifier\n",
    "\n",
    "# Initialize a Random Forest classifier with 100 trees\n",
    "forest = RandomForestClassifier(n_estimators = 100) \n",
    "\n",
    "# Fit the forest to the training set, using the bag of words as \n",
    "# features and the sentiment labels as the response variable\n",
    "#\n",
    "# This may take a few minutes to run\n",
    "forest = forest.fit(train_data_features,tv)"
   ]
  },
  {
   "cell_type": "code",
   "execution_count": 289,
   "metadata": {
    "collapsed": false
   },
   "outputs": [],
   "source": [
    "\n",
    "test_data_features = vectorizer.transform(clean_train_escort_reviews[train_size:])\n",
    "result = forest.predict(test_data_features)"
   ]
  },
  {
   "cell_type": "code",
   "execution_count": 290,
   "metadata": {
    "collapsed": false
   },
   "outputs": [
    {
     "data": {
      "text/plain": [
       "0.999"
      ]
     },
     "execution_count": 290,
     "metadata": {},
     "output_type": "execute_result"
    }
   ],
   "source": [
    "np.mean(result == -1 )"
   ]
  },
  {
   "cell_type": "code",
   "execution_count": 291,
   "metadata": {
    "collapsed": false
   },
   "outputs": [
    {
     "data": {
      "text/plain": [
       "array([-1.])"
      ]
     },
     "execution_count": 291,
     "metadata": {},
     "output_type": "execute_result"
    }
   ],
   "source": [
    "text1 = 'Names Tiffany 19 y.o. female from Queens NY .. Looking For A G-e-ne-r-o-.u.s man who wants to have a little quick fun .. Email me for more details'\n",
    "string_text = [review_to_words(text1)]\n",
    "test_data = vectorizer.transform(string_text)\n",
    "string_text2 = [review_to_words(text2)]\n",
    "tesr_data_features = test_data.toarray()\n",
    "result = forest.predict(test_data)\n",
    "result"
   ]
  }
 ],
 "metadata": {
  "anaconda-cloud": {},
  "kernelspec": {
   "display_name": "Python [Root]",
   "language": "python",
   "name": "Python [Root]"
  },
  "language_info": {
   "codemirror_mode": {
    "name": "ipython",
    "version": 3
   },
   "file_extension": ".py",
   "mimetype": "text/x-python",
   "name": "python",
   "nbconvert_exporter": "python",
   "pygments_lexer": "ipython3",
   "version": "3.5.2"
  }
 },
 "nbformat": 4,
 "nbformat_minor": 0
}
